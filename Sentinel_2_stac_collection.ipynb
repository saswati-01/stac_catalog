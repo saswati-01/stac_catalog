{
  "cells": [
    {
      "cell_type": "markdown",
      "metadata": {
        "id": "GSgyoZ8nCeYh"
      },
      "source": [
        "# Create a STAC Catalog with a Collection Using PySTAC"
      ]
    },
    {
      "cell_type": "markdown",
      "metadata": {
        "id": "UqrX9FeuCeYj"
      },
      "source": [
        "This tutorial builds off of the knowledge from the previous tutorials (where you learned how to [create a STAC Catalog](/en/tutorials/2-create-stac-catalog-python/index.html) and [create a STAC Item that utilizes extensions](/en/tutorials/3-create-stac-item-with-extension/index.html)). Now that you know the basics of creating a STAC Catalog, we want to add more functionality to it. This tutorial shows you how to add a STAC Collection to a Catalog to better organize the catalog's items."
      ]
    },
    {
      "cell_type": "markdown",
      "metadata": {
        "id": "IfKVRypqCeYj"
      },
      "source": [
        "## Dependencies\n",
        "If you need to install pystac, rasterio, or pystac, uncomment the lines below and run the cell."
      ]
    },
    {
      "cell_type": "code",
      "execution_count": null,
      "metadata": {
        "colab": {
          "base_uri": "https://localhost:8080/"
        },
        "id": "drx9lcOaCeYk",
        "outputId": "69d916cb-03a0-4947-8a23-f92abe5486ce"
      },
      "outputs": [
        {
          "output_type": "stream",
          "name": "stdout",
          "text": [
            "Collecting pystac\n",
            "  Downloading pystac-1.9.0-py3-none-any.whl (181 kB)\n",
            "\u001b[2K     \u001b[90m━━━━━━━━━━━━━━━━━━━━━━━━━━━━━━━━━━━━━━━━\u001b[0m \u001b[32m181.6/181.6 kB\u001b[0m \u001b[31m1.8 MB/s\u001b[0m eta \u001b[36m0:00:00\u001b[0m\n",
            "\u001b[?25hRequirement already satisfied: python-dateutil>=2.7.0 in /usr/local/lib/python3.10/dist-packages (from pystac) (2.8.2)\n",
            "Requirement already satisfied: six>=1.5 in /usr/local/lib/python3.10/dist-packages (from python-dateutil>=2.7.0->pystac) (1.16.0)\n",
            "Installing collected packages: pystac\n",
            "Successfully installed pystac-1.9.0\n",
            "Collecting rasterio\n",
            "  Downloading rasterio-1.3.9-cp310-cp310-manylinux2014_x86_64.whl (20.6 MB)\n",
            "\u001b[2K     \u001b[90m━━━━━━━━━━━━━━━━━━━━━━━━━━━━━━━━━━━━━━━━\u001b[0m \u001b[32m20.6/20.6 MB\u001b[0m \u001b[31m46.8 MB/s\u001b[0m eta \u001b[36m0:00:00\u001b[0m\n",
            "\u001b[?25hCollecting affine (from rasterio)\n",
            "  Downloading affine-2.4.0-py3-none-any.whl (15 kB)\n",
            "Requirement already satisfied: attrs in /usr/local/lib/python3.10/dist-packages (from rasterio) (23.2.0)\n",
            "Requirement already satisfied: certifi in /usr/local/lib/python3.10/dist-packages (from rasterio) (2024.2.2)\n",
            "Requirement already satisfied: click>=4.0 in /usr/local/lib/python3.10/dist-packages (from rasterio) (8.1.7)\n",
            "Requirement already satisfied: cligj>=0.5 in /usr/local/lib/python3.10/dist-packages (from rasterio) (0.7.2)\n",
            "Requirement already satisfied: numpy in /usr/local/lib/python3.10/dist-packages (from rasterio) (1.25.2)\n",
            "Collecting snuggs>=1.4.1 (from rasterio)\n",
            "  Downloading snuggs-1.4.7-py3-none-any.whl (5.4 kB)\n",
            "Requirement already satisfied: click-plugins in /usr/local/lib/python3.10/dist-packages (from rasterio) (1.1.1)\n",
            "Requirement already satisfied: setuptools in /usr/local/lib/python3.10/dist-packages (from rasterio) (67.7.2)\n",
            "Requirement already satisfied: pyparsing>=2.1.6 in /usr/local/lib/python3.10/dist-packages (from snuggs>=1.4.1->rasterio) (3.1.1)\n",
            "Installing collected packages: snuggs, affine, rasterio\n",
            "Successfully installed affine-2.4.0 rasterio-1.3.9 snuggs-1.4.7\n",
            "Requirement already satisfied: shapely in /usr/local/lib/python3.10/dist-packages (2.0.3)\n",
            "Requirement already satisfied: numpy<2,>=1.14 in /usr/local/lib/python3.10/dist-packages (from shapely) (1.25.2)\n"
          ]
        }
      ],
      "source": [
        "! pip install pystac\n",
        "! pip install rasterio\n",
        "! pip install shapely"
      ]
    },
    {
      "cell_type": "markdown",
      "metadata": {
        "id": "0ItUrjlECeYk"
      },
      "source": [
        "## STAC Collections\n",
        "\n",
        "Collections are a subtype of a catalog that have some additional properties to make them more searchable. They also can define common properties so that items in the collection don't have to duplicate common data for each item. Let's create a collection to hold common properties between two images\n",
        "We will use the image we have been working with along with another image."
      ]
    },
    {
      "cell_type": "markdown",
      "metadata": {
        "id": "NnarwybpCeYl"
      },
      "source": [
        "## Import Packages and Store Data\n",
        "To begin, import the packages that you need to access data and work with STAC in Python."
      ]
    },
    {
      "cell_type": "code",
      "execution_count": null,
      "metadata": {
        "id": "cwtxGr9BCeYl"
      },
      "outputs": [],
      "source": [
        "import os\n",
        "import rasterio\n",
        "import urllib.request\n",
        "import pystac\n",
        "\n",
        "from shapely.geometry import Polygon, mapping\n",
        "from datetime import datetime, timezone\n",
        "from pystac.extensions.eo import Band, EOExtension\n",
        "from tempfile import TemporaryDirectory"
      ]
    },
    {
      "cell_type": "markdown",
      "metadata": {
        "id": "BiVw8AzbCeYl"
      },
      "source": [
        "Let's set up our temporary directory and store two images from the Spacenet 5 Challenge."
      ]
    },
    {
      "cell_type": "markdown",
      "metadata": {
        "id": "eOzBnAvxCeYm"
      },
      "source": [
        "## Collect the Items' `geometry` and `bbox`\n",
        "To get the bounding box and footprint of the image, we will utilize the `get_bbox_and_footprint` function we first used in the [Create a STAC Catalog Tutorial](/en/tutorials/2-create-stac-catalog-python/index.html).\n",
        "\n",
        "We will do this process for both the images in which we are using."
      ]
    },
    {
      "cell_type": "code",
      "source": [
        "image_1= '/content/sentinel_20m_20240109.tif'\n",
        "image_2='/content/sentinel_20m_20240129.tif'"
      ],
      "metadata": {
        "id": "tv6yzXlTJUnQ"
      },
      "execution_count": null,
      "outputs": []
    },
    {
      "cell_type": "code",
      "source": [
        "print(\"image_1: \" ,image_1 , \"\\n\", \"image_2: \", image_2)"
      ],
      "metadata": {
        "colab": {
          "base_uri": "https://localhost:8080/"
        },
        "id": "2f0O_dMgJ8zI",
        "outputId": "8fd8933f-558e-498a-e87d-bf86127e77b0"
      },
      "execution_count": null,
      "outputs": [
        {
          "output_type": "stream",
          "name": "stdout",
          "text": [
            "image_1:  /content/sentinel_20m_20240109.tif \n",
            " image_2:  /content/sentinel_20m_20240129.tif\n"
          ]
        }
      ]
    },
    {
      "cell_type": "code",
      "execution_count": null,
      "metadata": {
        "id": "ZLmSWwW0CeYm"
      },
      "outputs": [],
      "source": [
        "def get_bbox_and_footprint(raster):\n",
        "    with rasterio.open(raster) as r:\n",
        "        bounds = r.bounds\n",
        "        bbox = [bounds.left, bounds.bottom, bounds.right, bounds.top]\n",
        "        footprint = Polygon([\n",
        "            [bounds.left, bounds.bottom],\n",
        "            [bounds.left, bounds.top],\n",
        "            [bounds.right, bounds.top],\n",
        "            [bounds.right, bounds.bottom]\n",
        "        ])\n",
        "\n",
        "        return (bbox, mapping(footprint))"
      ]
    },
    {
      "cell_type": "code",
      "execution_count": null,
      "metadata": {
        "colab": {
          "base_uri": "https://localhost:8080/"
        },
        "id": "n7-wb6Z1CeYm",
        "outputId": "6fedb3af-4db8-4346-bfc4-d91c70078568"
      },
      "outputs": [
        {
          "output_type": "stream",
          "name": "stdout",
          "text": [
            "bbox:  [600000.0, 2990220.0, 709800.0, 3100020.0] \n",
            "\n",
            "footprint:  {'type': 'Polygon', 'coordinates': (((600000.0, 2990220.0), (600000.0, 3100020.0), (709800.0, 3100020.0), (709800.0, 2990220.0), (600000.0, 2990220.0)),)}\n"
          ]
        }
      ],
      "source": [
        "# Run the function and print out the results for image 1\n",
        "bbox, footprint = get_bbox_and_footprint(image_1)\n",
        "print(\"bbox: \", bbox, \"\\n\")\n",
        "print(\"footprint: \", footprint)"
      ]
    },
    {
      "cell_type": "code",
      "execution_count": null,
      "metadata": {
        "colab": {
          "base_uri": "https://localhost:8080/"
        },
        "id": "iumiuRoQCeYm",
        "outputId": "86afde4d-6936-46fe-be9d-1bcd915b15f6"
      },
      "outputs": [
        {
          "output_type": "stream",
          "name": "stdout",
          "text": [
            "bbox:  [600000.0, 2990220.0, 709800.0, 3100020.0] \n",
            "\n",
            "footprint:  {'type': 'Polygon', 'coordinates': (((600000.0, 2990220.0), (600000.0, 3100020.0), (709800.0, 3100020.0), (709800.0, 2990220.0), (600000.0, 2990220.0)),)}\n"
          ]
        }
      ],
      "source": [
        "# Run the function and print out the results for image 2\n",
        "bbox2, footprint2 = get_bbox_and_footprint(image_2)\n",
        "print(\"bbox: \", bbox2, \"\\n\")\n",
        "print(\"footprint: \", footprint2)"
      ]
    },
    {
      "cell_type": "markdown",
      "source": [
        "## Define the Bands of Sentinel-2"
      ],
      "metadata": {
        "id": "B9S3Wr5IZ2QG"
      }
    },
    {
      "cell_type": "code",
      "execution_count": null,
      "metadata": {
        "id": "V4Zg0JYtCeYm"
      },
      "outputs": [],
      "source": [
        "S2_bands = [Band.create(name='Aerosols', description='Aerosols: 443 - 442 nm', common_name='Aerosols'),\n",
        "             Band.create(name='Blue', description='Blue: 496.6 - 492.1 nm', common_name='blue'),\n",
        "             Band.create(name='Green', description='Green: 560 - 559 nm', common_name='green'),\n",
        "             Band.create(name='Red', description='Red: 664.5 - 665 nm', common_name='red'),\n",
        "             Band.create(name='Red Edge1', description='Red Edge1: 703.9 - 703.8 nm', common_name='rededge1'),\n",
        "             Band.create(name='Red Edge2', description='Red Edge2: 740.2 - 739.1 nm', common_name='rededge2'),\n",
        "             Band.create(name='Red Edge3', description='Red Edge3: 782.5 - 779.7 nm', common_name='rededge3'),\n",
        "             Band.create(name='NIR', description='NIR: 835.1 - 833 nm', common_name='nir'),\n",
        "             Band.create(name='Red Edge4', description='Red Edge4: 864.8 - 864 nm', common_name='rededge4'),\n",
        "             Band.create(name='Water Vapor', description='Water Vapor : 945 - 943.2 nm', common_name='water vapor'),\n",
        "             Band.create(name='SWIR1', description='SWIR1: 1613.7 - 1610.4nm', common_name='swir1'),\n",
        "             Band.create(name='SWIR2', description='SWIR2: 2202.4 - 2185 nm', common_name='swir2')]"
      ]
    },
    {
      "cell_type": "markdown",
      "metadata": {
        "id": "14664E6xCeYm"
      },
      "source": [
        "## Create the Collection\n",
        "\n",
        "Take a look at the PySTAC API Documentation for [Collection](https://pystac.readthedocs.io/en/stable/api/collection.html#pystac-collection) to see what information we need to supply in order to satisfy the specification."
      ]
    },
    {
      "cell_type": "markdown",
      "metadata": {
        "id": "TQuE36dbCeYm"
      },
      "source": [
        "Beyond what a Catalog requires, a Collection requires a `license` of the data in the collection and an `extent` that describes the range of space and time that the items it holds occupy."
      ]
    },
    {
      "cell_type": "markdown",
      "metadata": {
        "id": "GI3v3ttiCeYm"
      },
      "source": [
        "An `extent` is comprised of a `SpatialExtent` and a `TemporalExtent`. These extents hold one or more bounding boxes and time intervals, respectively, that completely  cover the items contained in the collections.\n",
        "\n",
        "Let's start with creating two new items - these will be core items. We can set these items to implement the EO extension by specifying them in the `stac_extensions`."
      ]
    },
    {
      "cell_type": "code",
      "execution_count": null,
      "metadata": {
        "id": "mzRFJWeTCeYn"
      },
      "outputs": [],
      "source": [
        "collection_item = pystac.Item(id='sentinel2_09_2024',\n",
        "                               geometry=footprint,\n",
        "                               bbox=bbox,\n",
        "                               datetime=datetime.utcnow(),\n",
        "                               properties={})\n",
        "\n",
        "collection_item.common_metadata.platform = 'Bhoonidhi'\n",
        "collection_item.common_metadata.instruments = ['Sentinel2']\n",
        "\n",
        "asset = pystac.Asset(href=image_1,\n",
        "                      media_type=pystac.MediaType.GEOTIFF)\n",
        "collection_item.add_asset(\"image\", asset)\n",
        "eo = EOExtension.ext(collection_item.assets[\"image\"], add_if_missing=True)\n",
        "eo.apply(S2_bands)\n",
        "\n",
        "collection_item2 = pystac.Item(id='sentinel2_29_2024',\n",
        "                               geometry=footprint2,\n",
        "                               bbox=bbox2,\n",
        "                               datetime=datetime.utcnow(),\n",
        "                               properties={})\n",
        "\n",
        "\n",
        "collection_item2.common_metadata.platform = 'Bhoonidhi'\n",
        "collection_item2.common_metadata.instruments = ['Sentinel2']\n",
        "\n",
        "asset2 = pystac.Asset(href=image_2,\n",
        "                     media_type=pystac.MediaType.GEOTIFF)\n",
        "collection_item2.add_asset(\"image\", asset2)\n",
        "eo = EOExtension.ext(collection_item2.assets[\"image\"], add_if_missing=True)\n",
        "eo.apply([\n",
        "    band for band in S2_bands if band.name in [\"Red\", \"Green\", \"Blue\"]\n",
        "])\n"
      ]
    },
    {
      "cell_type": "markdown",
      "metadata": {
        "id": "-Zl1B5YSCeYn"
      },
      "source": [
        "We can use our two items' metadata to find out what the proper bounds are:"
      ]
    },
    {
      "cell_type": "code",
      "execution_count": null,
      "metadata": {
        "id": "pjNmANc0CeYn"
      },
      "outputs": [],
      "source": [
        "from shapely.geometry import shape\n",
        "\n",
        "unioned_footprint = shape(footprint).union(shape(footprint2))\n",
        "collection_bbox = list(unioned_footprint.bounds)\n",
        "spatial_extent = pystac.SpatialExtent(bboxes=[collection_bbox])"
      ]
    },
    {
      "cell_type": "code",
      "execution_count": null,
      "metadata": {
        "id": "AsJuLeSECeYn"
      },
      "outputs": [],
      "source": [
        "collection_interval = sorted([collection_item.datetime, collection_item2.datetime])\n",
        "temporal_extent = pystac.TemporalExtent(intervals=[collection_interval])"
      ]
    },
    {
      "cell_type": "code",
      "execution_count": null,
      "metadata": {
        "id": "Ubv_FVhgCeYn"
      },
      "outputs": [],
      "source": [
        "collection_extent = pystac.Extent(spatial=spatial_extent, temporal=temporal_extent)"
      ]
    },
    {
      "cell_type": "code",
      "execution_count": null,
      "metadata": {
        "id": "uw5TOqAZCeYn"
      },
      "outputs": [],
      "source": [
        "collection = pystac.Collection(id='S2-images',\n",
        "                               description='Sikkim',\n",
        "                               extent=collection_extent,\n",
        "                              )"
      ]
    },
    {
      "cell_type": "markdown",
      "metadata": {
        "id": "H3AQQ_WhCeYn"
      },
      "source": [
        "Now if we add our items to our collection, and our collection to a catalog, we get the following STAC that can be saved:"
      ]
    },
    {
      "cell_type": "code",
      "execution_count": null,
      "metadata": {
        "colab": {
          "base_uri": "https://localhost:8080/",
          "height": 68
        },
        "id": "8MxvLeWGCeYn",
        "outputId": "040b973b-9bdf-4606-e662-8e1f4c7debf8"
      },
      "outputs": [
        {
          "output_type": "execute_result",
          "data": {
            "text/plain": [
              "<Link rel=child target=<Collection id=S2-images>>"
            ],
            "text/html": [
              "\n",
              "\n",
              "<style>\n",
              ".pystac-summary {\n",
              "    cursor: pointer;\n",
              "    display:list-item;\n",
              "}\n",
              ".pystac-key {\n",
              "    color: rgb(0, 128, 0);\n",
              "    font-weight: 700;\n",
              "}\n",
              ".pystac-key-value {\n",
              "    display: inline-block;\n",
              "    margin: 0px 0.5em 0px 0px;\n",
              "}\n",
              "</style>\n",
              "<div class=\"jp-RenderedJSON jp-mod-trusted jp-OutputArea-output\">\n",
              "    <div class=\"container\" style=\"line-height: normal;\">\n",
              "        <ul style=\"padding: 0px; margin: 0px; list-style: none; display: block;\">\n",
              "            \n",
              "                \n",
              "                    \n",
              "        <li style=\"overflow-wrap: break-word; padding-left: 2.125em; text-indent: -0.5em;\">\n",
              "            <span class=\"pystac-key pystac-key-value\">rel</span>\n",
              "            <span style=\"color: rgb(186, 33, 33);\">\"child\"</span>\n",
              "        </li>\n",
              "    \n",
              "                \n",
              "            \n",
              "                \n",
              "                    \n",
              "        <li style=\"overflow-wrap: break-word; padding-left: 2.125em; text-indent: -0.5em;\">\n",
              "            <span class=\"pystac-key pystac-key-value\">href</span>\n",
              "            <span style=\"color: rgb(186, 33, 33);\">\"/tmp/tmpf4fsh_o4/stac-collection/S2-images/collection.json\"</span>\n",
              "        </li>\n",
              "    \n",
              "                \n",
              "            \n",
              "                \n",
              "                    \n",
              "        <li style=\"overflow-wrap: break-word; padding-left: 2.125em; text-indent: -0.5em;\">\n",
              "            <span class=\"pystac-key pystac-key-value\">type</span>\n",
              "            <span style=\"color: rgb(186, 33, 33);\">\"application/json\"</span>\n",
              "        </li>\n",
              "    \n",
              "                \n",
              "            \n",
              "        </ul>\n",
              "    </div>\n",
              "</div>"
            ]
          },
          "metadata": {},
          "execution_count": 33
        }
      ],
      "source": [
        "collection.add_items([collection_item, collection_item2])\n",
        "catalog = pystac.Catalog(id='catalog-with-collection',\n",
        "                         description='Catalog for Sikkim Sentinel2 data.')\n",
        "catalog.add_child(collection)\n"
      ]
    },
    {
      "cell_type": "code",
      "execution_count": null,
      "metadata": {
        "colab": {
          "base_uri": "https://localhost:8080/"
        },
        "id": "HVEoeaQsCeYn",
        "outputId": "1d2bca62-a89d-4e24-dc49-081ab6ee7c33"
      },
      "outputs": [
        {
          "output_type": "stream",
          "name": "stdout",
          "text": [
            "* <Catalog id=catalog-with-collection>\n",
            "    * <Collection id=S2-images>\n",
            "      * <Item id=sentinel2_09_2024>\n",
            "      * <Item id=sentinel2_29_2024>\n",
            "      * <Item id=sentinel2_09_2024>\n",
            "      * <Item id=sentinel2_29_2024>\n"
          ]
        }
      ],
      "source": [
        "catalog.describe()"
      ]
    },
    {
      "cell_type": "code",
      "execution_count": null,
      "metadata": {
        "id": "7-B74KQ8CeYn"
      },
      "outputs": [],
      "source": [
        "catalog.normalize_and_save(root_href=os.path.join(tmp_dir.name, 'stac-collection'),\n",
        "                           catalog_type=pystac.CatalogType.SELF_CONTAINED)"
      ]
    },
    {
      "cell_type": "markdown",
      "metadata": {
        "id": "ilP8xYgOCeYn"
      },
      "source": [
        "## Cleanup\n",
        "\n",
        "Don't forget to clean up the temporary directory."
      ]
    },
    {
      "cell_type": "code",
      "execution_count": null,
      "metadata": {
        "id": "iKZgN-EvCeYn"
      },
      "outputs": [],
      "source": [
        "tmp_dir.cleanup()"
      ]
    },
    {
      "cell_type": "markdown",
      "metadata": {
        "id": "Ui25laWyCeYn"
      },
      "source": [
        "There you have it. A STAC Catalog with a STAC Collection, STAC Items, and use of a STAC Extension. Now you are ready to build your own STAC Catalog for a dataset of your own."
      ]
    },
    {
      "cell_type": "markdown",
      "metadata": {
        "id": "gC5Kr5-dCeYn"
      },
      "source": [
        "#### Join the conversation\n",
        "If you have any questions, you’re welcome to ask our community on [Gitter](https://app.gitter.im/#/room/#SpatioTemporal-Asset-Catalog_Lobby)."
      ]
    }
  ],
  "metadata": {
    "kernelspec": {
      "display_name": "Python 3 (ipykernel)",
      "language": "python",
      "name": "python3"
    },
    "language_info": {
      "codemirror_mode": {
        "name": "ipython",
        "version": 3
      },
      "file_extension": ".py",
      "mimetype": "text/x-python",
      "name": "python",
      "nbconvert_exporter": "python",
      "pygments_lexer": "ipython3",
      "version": "3.10.8"
    },
    "vscode": {
      "interpreter": {
        "hash": "b0fa6594d8f4cbf19f97940f81e996739fb7646882a419484c72d19e05852a7e"
      }
    },
    "colab": {
      "provenance": []
    }
  },
  "nbformat": 4,
  "nbformat_minor": 0
}